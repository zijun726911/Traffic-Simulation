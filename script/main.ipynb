{
 "cells": [
  {
   "cell_type": "code",
   "execution_count": 135,
   "metadata": {
    "collapsed": true,
    "pycharm": {
     "is_executing": false
    }
   },
   "outputs": [],
   "source": [
    "from matplotlib.axes import Axes\n",
    "from script.packetPreprocessing import *\n",
    "from script.packetsHandler import *\n",
    "import decimal\n",
    "import seaborn as sns\n",
    "import matplotlib.pyplot as plt\n",
    "import pandas as pd\n",
    "import math\n",
    "import random\n",
    "import gc"
   ]
  },
  {
   "cell_type": "code",
   "execution_count": 4,
   "outputs": [],
   "source": [
    "fileNum=10\n",
    "packets=readPcap(fileNum)\n",
    "timestamp=readTimestamp(fileNum*10000)\n",
    "packets=replaceTimestemp(packets,timestamp)\n",
    "byteSlots0001, byteRates0001=splitToTimeSlot(packets, 0.0001)\n",
    "byteSlots0002, byteRates0002 = splitToTimeSlot(packets, 0.0002)\n"
   ],
   "metadata": {
    "collapsed": false,
    "pycharm": {
     "name": "#%%\n",
     "is_executing": false
    }
   }
  },
  {
   "cell_type": "code",
   "execution_count": 147,
   "outputs": [
    {
     "data": {
      "text/plain": "2024"
     },
     "metadata": {},
     "output_type": "execute_result",
     "execution_count": 147
    }
   ],
   "source": [
    "data=pd.DataFrame({'timestamp':[i for i in range(len(byteSlots0001))],\n",
    "                  'byterate':list(map(int,byteRates0001))})\n",
    "\n",
    "data.head()\n",
    "\n",
    "# for label in fig.get_xticklabels():\n",
    "#     if np.int(label.get_text()) % 100 == 0:  \n",
    "#         label.set_visible(True)\n",
    "#     else:\n",
    "#         label.set_visible(False)\n",
    "len(data)"
   ],
   "metadata": {
    "collapsed": false,
    "pycharm": {
     "name": "#%%\n",
     "is_executing": false
    }
   }
  },
  {
   "cell_type": "code",
   "execution_count": 137,
   "outputs": [
    {
     "data": {
      "text/plain": "<Figure size 432x288 with 1 Axes>",
      "image/png": "[encoded data removed]"
     },
     "metadata": {
      "needs_background": "light"
     },
     "output_type": "display_data"
    }
   ],
   "source": [
    "fig=sns.lineplot(x='timestamp',y='byterate',data=data  )\n",
    "\n",
    "# xticklabels\tList[str]\n",
    "# xticks"
   ],
   "metadata": {
    "collapsed": false,
    "pycharm": {
     "name": "#%%\n",
     "is_executing": false
    }
   }
  },
  {
   "cell_type": "code",
   "execution_count": 148,
   "outputs": [
    {
     "data": {
      "text/plain": "[Text(0, 0, '0'),\n Text(100, 0, '100'),\n Text(200, 0, '200'),\n Text(300, 0, '300'),\n Text(400, 0, '400'),\n Text(500, 0, '500'),\n Text(600, 0, '600'),\n Text(700, 0, '700'),\n Text(800, 0, '800'),\n Text(900, 0, '900'),\n Text(1000, 0, '1000'),\n Text(1100, 0, '1100'),\n Text(1200, 0, '1200'),\n Text(1300, 0, '1300'),\n Text(1400, 0, '1400'),\n Text(1500, 0, '1500'),\n Text(1600, 0, '1600'),\n Text(1700, 0, '1700'),\n Text(1800, 0, '1800'),\n Text(1900, 0, '1900'),\n Text(0, 0, '2000')]"
     },
     "metadata": {},
     "output_type": "execute_result",
     "execution_count": 148
    }
   ],
   "source": [
    "fig.set_xticks(np.arange(0,len(data),100))\n",
    "fig.set_xticklabels(np.arange(0,len(data),100))\n",
    "# fig.set_size_inches( 30, 10)\n",
    "# np.arange(0, len(byteRates0001),100)"
   ],
   "metadata": {
    "collapsed": false,
    "pycharm": {
     "name": "#%%\n",
     "is_executing": false
    }
   }
  },
  {
   "cell_type": "code",
   "execution_count": 149,
   "outputs": [],
   "source": [],
   "metadata": {
    "collapsed": false,
    "pycharm": {
     "name": "#%%\n",
     "is_executing": false
    }
   }
  },
  {
   "cell_type": "code",
   "execution_count": 150,
   "outputs": [],
   "source": [
    "figure=fig.get_figure()\n",
    "figure.set_size_inches(30,10)\n",
    "figure.savefig(\"a\")"
   ],
   "metadata": {
    "collapsed": false,
    "pycharm": {
     "name": "#%%\n",
     "is_executing": false
    }
   }
  },
  {
   "cell_type": "code",
   "execution_count": 151,
   "outputs": [],
   "source": [],
   "metadata": {
    "collapsed": false,
    "pycharm": {
     "name": "#%%\n",
     "is_executing": false
    }
   }
  },
  {
   "cell_type": "code",
   "execution_count": 114,
   "outputs": [
    {
     "traceback": [
      "\u001b[1;31m---------------------------------------------------------------------------\u001b[0m",
      "\u001b[1;31mNameError\u001b[0m                                 Traceback (most recent call last)",
      "\u001b[1;32m<ipython-input-114-ea76fd17c694>\u001b[0m in \u001b[0;36m<module>\u001b[1;34m\u001b[0m\n\u001b[0;32m      1\u001b[0m \u001b[1;33m\u001b[0m\u001b[0m\n\u001b[1;32m----> 2\u001b[1;33m \u001b[1;32mdel\u001b[0m \u001b[0mfig\u001b[0m\u001b[1;33m,\u001b[0m\u001b[0mfigure\u001b[0m\u001b[1;33m\u001b[0m\u001b[0m\n\u001b[0m\u001b[0;32m      3\u001b[0m \u001b[0mgc\u001b[0m\u001b[1;33m.\u001b[0m\u001b[0mcollect\u001b[0m\u001b[1;33m(\u001b[0m\u001b[1;33m)\u001b[0m\u001b[1;33m\u001b[0m\u001b[0m\n\u001b[0;32m      4\u001b[0m \u001b[1;33m\u001b[0m\u001b[0m\n",
      "\u001b[1;31mNameError\u001b[0m: name 'figure' is not defined"
     ],
     "ename": "NameError",
     "evalue": "name 'figure' is not defined",
     "output_type": "error"
    }
   ],
   "source": [
    "del fig,figure\n",
    "gc.collect()"
   ],
   "metadata": {
    "collapsed": false,
    "pycharm": {
     "name": "#%%\n",
     "is_executing": false
    }
   }
  },
  {
   "cell_type": "code",
   "execution_count": null,
   "outputs": [],
   "source": [
    "\n"
   ],
   "metadata": {
    "collapsed": false,
    "pycharm": {
     "name": "#%%\n"
    }
   }
  }
 ],
 "metadata": {
  "kernelspec": {
   "display_name": "Python 3",
   "language": "python",
   "name": "python3"
  },
  "language_info": {
   "codemirror_mode": {
    "name": "ipython",
    "version": 2
   },
   "file_extension": ".py",
   "mimetype": "text/x-python",
   "name": "python",
   "nbconvert_exporter": "python",
   "pygments_lexer": "ipython2",
   "version": "2.7.6"
  },
  "pycharm": {
   "stem_cell": {
    "cell_type": "raw",
    "source": [],
    "metadata": {
     "collapsed": false
    }
   }
  }
 },
 "nbformat": 4,
 "nbformat_minor": 0
}